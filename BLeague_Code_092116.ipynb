{
 "cells": [
  {
   "cell_type": "code",
   "execution_count": 43,
   "metadata": {
    "collapsed": false
   },
   "outputs": [],
   "source": [
    "# From Barbara League via email - loaded in jupyter notebook for feedback facilitation\n",
    "\n",
    "# This is just a test file to do some twitter parsing, count #, @, and http tags, and calculate the\n",
    "# Pointwise Mutual Information(PMI) and Semantic Orientation(SO) of terms in the text portion of a\n",
    "# a tweet.  Right now the output doesn't make any sense.  More filtering of the text is definitely\n",
    "# needed, along with retweet removal, etc.  Most of this code is from Marco Bonzanini\n",
    "import nltk\n",
    "from pprint import pprint\n",
    "from collections import Counter\n",
    "from collections import defaultdict\n",
    "from nltk.tokenize import word_tokenize\n",
    "from nltk.tokenize import TweetTokenizer\n",
    "import json\n",
    "from nltk.corpus import stopwords\n",
    "import string\n",
    "import matplotlib.pyplot as plt\n",
    "# use for creating graphs in notebook\n",
    "%matplotlib inline \n",
    "from nltk import bigrams\n",
    "import vincent\n",
    "import operator\n",
    "import math\n",
    "# other recommended imports\n",
    "from __future__ import division # floating point division\n",
    "import numpy as np\n",
    "import networkx\n"
   ]
  },
  {
   "cell_type": "code",
   "execution_count": 44,
   "metadata": {
    "collapsed": true
   },
   "outputs": [],
   "source": [
    "# load a test file\n",
    "\n",
    "filename = 'AtlantaDream052916.out'\n",
    "tknzr = TweetTokenizer()\n",
    "punctuation = list(string.punctuation)\n",
    "#print(punctuation)\n",
    "stop = stopwords.words('english') + punctuation + ['RT', 'rt', 'via', 'VIA', 'The']\n",
    "doc_cnt = 0\n",
    "co = defaultdict(lambda : defaultdict(int))\n"
   ]
  },
  {
   "cell_type": "code",
   "execution_count": 45,
   "metadata": {
    "collapsed": false
   },
   "outputs": [
    {
     "name": "stdout",
     "output_type": "stream",
     "text": [
      "('LENGTH OF POSITIVE WORDS: ', 2041)\n",
      "('LENGTH OF NEGATIVE WORDS: ', 4818)\n"
     ]
    }
   ],
   "source": [
    "# Read in positive and negative lexicons\n",
    "\n",
    "posfile = open('positive-words.txt', 'r')\n",
    "poswords = []\n",
    "for word in posfile:\n",
    "    poswords.append(word.strip())   # remove \\n\n",
    "print('LENGTH OF POSITIVE WORDS: ', len(poswords))\n",
    "posfile.close()\n",
    "negfile = open('negative-words.txt', 'r')\n",
    "negwords = []\n",
    "for word in negfile:\n",
    "    negwords.append(word.strip())\n",
    "print('LENGTH OF NEGATIVE WORDS: ', len(negwords))\n",
    "negfile.close()\n"
   ]
  },
  {
   "cell_type": "code",
   "execution_count": 79,
   "metadata": {
    "collapsed": false
   },
   "outputs": [
    {
     "name": "stdout",
     "output_type": "stream",
     "text": [
      "('MOST COMMON WORDS in: ', 'AtlantaDream052916.out')\n",
      "[(u'lead', 161), (u'tv', 89), (u'dream', 89), (u'game', 89), (u'nba', 85), (u'next', 78), (u'travel', 78), (u'south', 77), (u'battle', 77), (u'beats', 69), (u'trim', 69), (u'today', 64), (u'cortijo', 64), (u'points', 62), (u'see', 57)]\n",
      "('MOST COMMON HASH TERMS in: ', 'AtlantaDream052916.out')\n",
      "[(u'#RWTD', 184), (u'#WatchMeWork', 101), (u'#WNBA20', 98), (u'#WNBA', 54), (u'#AtlantaDream', 52), (u'#GameDay', 17), (u'#keepitup', 12), (u'#IndianaFever', 9), (u'#ATLDream', 7), (u'#WhatIfTimes', 7), (u'#TrueToAtlanta', 7), (u'#Gamecocks', 7), (u'#True2Atlanta', 7), (u'#CokejamCam', 6), (u'#WhatsYourDream', 6)]\n",
      "('MOST COMMON AMP TERMS in: ', 'AtlantaDream052916.out')\n",
      "[(u'@AtlantaDream', 858), (u'@IndianaFever', 372), (u'@NBATV', 239), (u'@WNBA', 162), (u'@Catchin24', 94), (u'@TiffMitch25', 66), (u'@8', 62), (u'@angel_35', 54), (u'@tiphayes3', 49), (u'@FOXSportsSE', 47), (u'@dawnstaley', 42), (u'@PhilipsArena', 37), (u'@GamecockWBB', 32), (u'@inners', 29), (u'@WNBAPrez', 25)]\n",
      "('MOST COMMON HTTP TERMS in: ', 'AtlantaDream052916.out')\n",
      "[(u'https://t.co/tELMFeCgMt', 67), (u'https://t.co/Lm29T6etLy', 62), (u'https://t.c\\u2026', 34), (u'https', 31), (u'https://t.co/JdBzJGwSe1', 22), (u'https://t.co\\u2026', 21), (u'https://t.co/sGLG\\u2026', 17), (u'https://t.co/9DeVtXXBLM', 16), (u'https://t.co/A6ydUet53f', 10), (u'https://\\u2026', 10), (u'https://t.co/WSyPW6YcAz', 8), (u'https://t.co/WU3hD4ev08', 8), (u'https://t.co/OQYUk6uber', 7), (u'https://t.\\u2026', 7), (u'https://t.co/1s2vHgvvgC', 7)]\n",
      "('MOST COMMON BIGRAMS in: ', 'AtlantaDream052916.out')\n",
      "[((u'nba', u'south'), 77), ((u'next', u'battle'), 77), ((u'battle', u'nba'), 77), ((u'tv', u'travel'), 77), ((u'travel', u'next'), 69), ((u'trim', u'lead'), 69), ((u'lead', u'beats'), 64), ((u'nation', u'game'), 29), ((u'see', u'thing'), 29), ((u'meeting', u'day'), 29), ((u'gameckck', u'nation'), 29), ((u'game', u'meeting'), 29), ((u'stop', u'gameckck'), 29), ((u'thing', u'stop'), 29), ((u'military', u'burns'), 24)]\n",
      "('MOST COMMON SINGLE WORDS IN: ', 'AtlantaDream052916.out')\n",
      "[(u'lead', 161), (u'tv', 89), (u'dream', 89), (u'game', 89), (u'nba', 85), (u'next', 78), (u'travel', 78), (u'south', 77), (u'battle', 77), (u'beats', 69), (u'trim', 69), (u'today', 64), (u'cortijo', 64), (u'points', 62), (u'see', 57)]\n"
     ]
    }
   ],
   "source": [
    "# Open twitter file and read in tweets.  Tokenzie, count, and compute PMIs and SO\n",
    "\n",
    "with open(filename, 'r') as f:\n",
    "    count_all = Counter()\n",
    "    count_hash = Counter()\n",
    "    count_amp = Counter()\n",
    "    count_http = Counter()\n",
    "    count_bigrams = Counter()\n",
    "    count_all_single = Counter()\n",
    "    for line in f:\n",
    "        tweet = json.loads(line)\n",
    "        if doc_cnt < 1:\n",
    "            print(\"TWEET TEXT FOR TWEET NUMBER: \", doc_cnt)\n",
    "            #print(json.dumps(tweet, indent=4))\n",
    "            pprint(tweet['text'])\n",
    "        token_tweet = tknzr.tokenize(tweet['text'])\n",
    "        token_tweet_lower = set([term.lower() for term in token_tweet if term.isalpha()]) # lower case alpha text\n",
    "        token_single = set(token_tweet_lower)  #for term frequency; \n",
    "        terms_hash = [term for term in token_tweet if term.startswith(\"#\")]\n",
    "        terms_amp = [term for term in token_tweet if term.startswith('@')]\n",
    "        terms_http = [term for term in token_tweet if term.startswith('http')]\n",
    "        terms_stop = [term for term in token_tweet_lower if term not in stop]\n",
    "        terms_bigram = bigrams(terms_stop)\n",
    "        terms_only = [term for term in token_tweet_lower if term not in stop and\n",
    "                     not term.startswith(('#','@', 'http'))]\n",
    "        terms_only_single = set(terms_only)\n",
    "\n",
    "        # Build co-occurance matrix.  Build co[x][y] which contains the number of times\n",
    "        # x has been seen in the same tweet as y\n",
    "\n",
    "        for i in range(len(terms_only) - 1):\n",
    "            for j in range(i+1, len(terms_only)):\n",
    "                w1, w2 = sorted([terms_only[i], terms_only[j]])\n",
    "                if w1 != w2:\n",
    "                    co[w1][w2] += 1\n",
    "\n",
    "        #print(terms_all)\n",
    "        count_all.update(terms_only)\n",
    "        count_hash.update(terms_hash)\n",
    "        count_amp.update(terms_amp)\n",
    "        count_http.update(terms_http)\n",
    "        count_bigrams.update(terms_bigram)\n",
    "        count_all_single.update(terms_only_single)\n",
    "        doc_cnt += 1\n",
    "\n",
    "    print('MOST COMMON WORDS in: ', filename)\n",
    "    print(count_all.most_common(15))\n",
    "    print('MOST COMMON HASH TERMS in: ', filename)\n",
    "    print(count_hash.most_common(15))\n",
    "    print('MOST COMMON AMP TERMS in: ', filename)\n",
    "    print(count_amp.most_common(15))\n",
    "    print('MOST COMMON HTTP TERMS in: ', filename)\n",
    "    print(count_http.most_common(15))\n",
    "    print('MOST COMMON BIGRAMS in: ', filename)\n",
    "    print(count_bigrams.most_common(15))\n",
    "    print('MOST COMMON SINGLE WORDS IN: ', filename)\n",
    "    print(count_all_single.most_common(15)) # this list is the same as \"MOST COMMON WORDS in:\" at top\n",
    "\n"
   ]
  },
  {
   "cell_type": "code",
   "execution_count": 77,
   "metadata": {
    "collapsed": true
   },
   "outputs": [],
   "source": [
    "# compare the words in sample file with the words in nltk english words corpus\n",
    "def unusual_words(text):\n",
    "    text_vocab = set(w.lower() for w in text if w.isalpha())\n",
    "    english_vocab = set(w.lower() for w in nltk.corpus.words.words())\n",
    "    unusual = text_vocab.difference(english_vocab)\n",
    "    return sorted(unusual)"
   ]
  },
  {
   "cell_type": "code",
   "execution_count": 80,
   "metadata": {
    "collapsed": false
   },
   "outputs": [
    {
     "data": {
      "text/plain": [
       "[u'points', u'puts']"
      ]
     },
     "execution_count": 80,
     "metadata": {},
     "output_type": "execute_result"
    }
   ],
   "source": [
    "unusual_words(terms_only) # output seems reasonable given the data domain"
   ]
  },
  {
   "cell_type": "code",
   "execution_count": 81,
   "metadata": {
    "collapsed": false
   },
   "outputs": [
    {
     "name": "stdout",
     "output_type": "stream",
     "text": [
      "CO-OCCURANCE TERMS ARE :\n",
      "[((u'nba', u'tv'), 462), ((u'nba', u'travel'), 462), ((u'nba', u'next'), 462), ((u'nba', u'south'), 462), ((u'next', u'tv'), 462), ((u'next', u'travel'), 462), ((u'next', u'south'), 462), ((u'travel', u'tv'), 462), ((u'south', u'tv'), 462), ((u'south', u'travel'), 462), ((u'battle', u'tv'), 462), ((u'battle', u'travel'), 462), ((u'battle', u'next'), 462), ((u'battle', u'nba'), 462), ((u'battle', u'south'), 462), ((u'lead', u'trim'), 414), ((u'beats', u'trim'), 414), ((u'beats', u'lead'), 414), ((u'dream', u'lead'), 372), ((u'dream', u'points'), 294), ((u'ind', u'w'), 222), ((u'game', u'see'), 216), ((u'lead', u'points'), 210), ((u'denise', u'inspiring'), 180), ((u'day', u'game'), 180), ((u'game', u'stop'), 180), ((u'gameckck', u'thing'), 174), ((u'gameckck', u'see'), 174), ((u'gameckck', u'stop'), 174), ((u'gameckck', u'meeting'), 174), ((u'gameckck', u'nation'), 174), ((u'nation', u'thing'), 174), ((u'nation', u'see'), 174), ((u'nation', u'stop'), 174), ((u'stop', u'thing'), 174), ((u'see', u'stop'), 174), ((u'see', u'thing'), 174), ((u'meeting', u'thing'), 174), ((u'meeting', u'see'), 174), ((u'meeting', u'stop'), 174), ((u'meeting', u'nation'), 174), ((u'day', u'stop'), 174), ((u'day', u'gameckck'), 174), ((u'day', u'nation'), 174), ((u'day', u'thing'), 174), ((u'game', u'meeting'), 174), ((u'game', u'nation'), 174), ((u'game', u'gameckck'), 174), ((u'end', u'quarter'), 150), ((u'military', u'peterson'), 144)]\n"
     ]
    }
   ],
   "source": [
    "    # Build list of tuples ((term1, term2), count)\n",
    "    # Print out 5 most frequent co-occurance terms\n",
    "\n",
    "    co_max=[]\n",
    "    for t1 in co:\n",
    "        t1_max_terms = sorted(co[t1].items(),\n",
    "                              key=operator.itemgetter(1),\n",
    "                              reverse=True)[:5]\n",
    "        for t2, t2_count in t1_max_terms:\n",
    "            co_max.append(((t1,t2), t2_count))\n",
    "    terms_max = sorted(co_max, key=operator.itemgetter(1),\n",
    "                       reverse=True)\n",
    "    print('CO-OCCURANCE TERMS ARE :')\n",
    "    print(terms_max[:50])"
   ]
  },
  {
   "cell_type": "code",
   "execution_count": 82,
   "metadata": {
    "collapsed": true
   },
   "outputs": [],
   "source": [
    "# Compute word and co-word probabilities = number of documents containing a word/total docs\n",
    "\n",
    "prob_t = {}\n",
    "prob_t_co = defaultdict( lambda : defaultdict(int))\n",
    "for term, n in count_all_single.items():\n",
    "    prob_t[term] = n/doc_cnt\n",
    "    for t2 in co[term]:\n",
    "        prob_t_co[term][t2] = co[term][t2]/doc_cnt\n"
   ]
  },
  {
   "cell_type": "code",
   "execution_count": 83,
   "metadata": {
    "collapsed": false
   },
   "outputs": [],
   "source": [
    "# Compute PMI of each pair of terms = log(P(t1^t2)/(P(t1)*P(t2))\n",
    "# The chosen measure of “closeness” is Pointwise Mutual Information (PMI)\n",
    "pmi = defaultdict(lambda : defaultdict(int))\n",
    "for t1 in prob_t:\n",
    "    for t2 in co[t1]:\n",
    "        denom = (prob_t[t1] * prob_t[t2]) + 1\n",
    "        #pmi[t1][t2] = math.log2(prob_t_co[t1][t2]/denom) log2 is a python 3.* in python 2.* use log(x, 2)\n",
    "        pmi[t1][t2] = math.log((prob_t_co[t1][t2]/denom), 2)"
   ]
  },
  {
   "cell_type": "code",
   "execution_count": 84,
   "metadata": {
    "collapsed": true
   },
   "outputs": [],
   "source": [
    "# Compute Semantic Orientation of each term = sum(PMI(t, posword)) - sum(PMI(t,negword))\n",
    "# define the Semantic Orientation (SO) of a word as the difference between its \n",
    "# associations with positive and negative words; calculate “how close” a word is \n",
    "# with terms like good and bad. The chosen measure of “closeness” is Pointwise Mutual Information (PMI)\n",
    "SO = {}\n",
    "for term,n in prob_t.items():\n",
    "    pos_assoc = sum(pmi[term][tx] for tx in poswords)\n",
    "    neg_assoc = sum(pmi[term][tx] for tx in negwords)\n",
    "    SO[term] = pos_assoc - neg_assoc\n",
    "    "
   ]
  },
  {
   "cell_type": "code",
   "execution_count": 85,
   "metadata": {
    "collapsed": false
   },
   "outputs": [
    {
     "name": "stdout",
     "output_type": "stream",
     "text": [
      "Count SOs: 539\n",
      "Top Positive\n",
      "[(u'crossover', 27.098893044500848),\n",
      " (u'en', 10.032980120904263),\n",
      " (u'da', 10.032964859323176),\n",
      " (u'erika', 10.032964859323176),\n",
      " (u'engelini', 10.032964859323176),\n",
      " (u'left', 10.032964311655784),\n",
      " (u'announce', 10.032964092588768),\n",
      " (u'sisters', 10.032964092588768),\n",
      " (u'called', 10.032964092588768),\n",
      " (u'tiffany', 9.03296624674631)]\n",
      "Top Negative\n",
      "[(u'dream', -20.337997234344616),\n",
      " (u'go', -25.929117441309046),\n",
      " (u'birthday', -27.098895527258595),\n",
      " (u'best', -27.098898375126993),\n",
      " (u'first', -28.51396015404138),\n",
      " (u'team', -29.098911446031472),\n",
      " (u'bucket', -30.098906115451406),\n",
      " (u'fever', -31.31821720178584),\n",
      " (u'good', -38.13186706809706),\n",
      " (u'game', -72.67905864206166)]\n"
     ]
    }
   ],
   "source": [
    "# Print out top SOs\n",
    "\n",
    "SO_sorted = sorted(SO.items(), key=operator.itemgetter(1),\n",
    "                   reverse=True)\n",
    "top_pos = SO_sorted[:10]\n",
    "top_neg = SO_sorted[-10:]\n",
    "\n",
    "print 'Count SOs:', len(SO_sorted)\n",
    "print 'Top Positive'\n",
    "pprint(top_pos)\n",
    "print 'Top Negative'\n",
    "pprint(top_neg)\n",
    "\n"
   ]
  },
  {
   "cell_type": "code",
   "execution_count": 88,
   "metadata": {
    "collapsed": false
   },
   "outputs": [
    {
     "name": "stdout",
     "output_type": "stream",
     "text": [
      "((u'lead', u'tv', u'dream', u'game', u'nba', u'next', u'travel', u'south', u'battle', u'beats', u'trim', u'today', u'cortijo', u'points', u'see'), (161, 89, 89, 89, 85, 78, 78, 77, 77, 69, 69, 64, 64, 62, 57))\n"
     ]
    },
    {
     "data": {
      "image/png": "[encoded data removed]",
      "text/plain": [
       "<matplotlib.figure.Figure at 0x3a998da0>"
      ]
     },
     "metadata": {},
     "output_type": "display_data"
    },
    {
     "name": "stdout",
     "output_type": "stream",
     "text": [
      "BIGRAMS MOST COMMON ARE \n",
      "[((u'nba', u'south'), 77), ((u'next', u'battle'), 77), ((u'battle', u'nba'), 77), ((u'tv', u'travel'), 77), ((u'travel', u'next'), 69)]\n"
     ]
    }
   ],
   "source": [
    "#Do some visualization with a bar graph.  First with matplotlib, then Vega\n",
    "\n",
    "word_freq = count_all.most_common(15)\n",
    "labels, freq = zip(*word_freq)\n",
    "print(labels,freq)\n",
    "plt.bar(range(len(freq)), freq, align='center')\n",
    "plt.xticks(range(len(freq)), labels, size='small')\n",
    "locs, names = plt.xticks()\n",
    "plt.setp(names, rotation=90)\n",
    "plt.show() # display chart inline\n",
    "print('BIGRAMS MOST COMMON ARE ')\n",
    "print(count_bigrams.most_common(5))\n",
    "\n",
    "# Use Vega scaffold to display bar chart.  Create html file\n",
    "# then type:  python -m http.server 8888 for Python 3\n",
    "# then open a broswer and go to http://localhost:8888/chart.html\n",
    "\n",
    "#data = {'data': freq, 'x':labels}\n",
    "#bar = vincent.Bar(data, iter_idx='x')\n",
    "#bar.to_json('term_freq.json')\n",
    "\n",
    "# NOTE: output illustrates how many of the tweets are commercially generated, for example (https://t.co/tELMFeCgMt):\n",
    "# NBA TV (Verified account) @NBATV: The @IndianaFever travel South to battle the @AtlantaDream, NEXT on NBA TV!\n",
    "# The exception is the post about latina player Carla Cortijo (https://t.co/1s2vHgvvgC) posted in spanish, btw."
   ]
  },
  {
   "cell_type": "code",
   "execution_count": 90,
   "metadata": {
    "collapsed": false
   },
   "outputs": [
    {
     "name": "stdout",
     "output_type": "stream",
     "text": [
      "[u'RT', u'@marcobonzanini', u':', u'This', u'is', u'a', u'the', u'just', u'an', u'example', u'!', u'!', u'!', u':D', u'http://example.com', u'#NLP', u':)', u'2000', u'2,000', u'I', u'DID', u'IT']\n",
      "[(u'RT', 'NNP'), (u'@marcobonzanini', 'NN'), (u':', ':'), (u'This', 'DT'), (u'is', 'VBZ'), (u'a', 'DT'), (u'the', 'DT'), (u'just', 'RB'), (u'an', 'DT'), (u'example', 'NN'), (u'!', '.'), (u'!', '.'), (u'!', '.'), (u':D', 'JJ'), (u'http://example.com', 'NN'), (u'#NLP', 'NNP'), (u':)', 'NNP'), (u'2000', 'CD'), (u'2,000', 'CD'), (u'I', 'PRP'), (u'DID', 'VBP'), (u'IT', 'VB')]\n",
      "NNP: noun, proper, singular\n",
      "    Motown Venneboerger Czestochwa Ranzer Conchita Trumplane Christos\n",
      "    Oceanside Escobar Kreisler Sawyer Cougar Yvette Ervin ODI Darryl CTCA\n",
      "    Shannon A.K.C. Meltex Liverpool ...\n",
      "['!', '\"', '#', '$', '%', '&', \"'\", '(', ')', '*', '+', ',', '-', '.', '/', ':', ';', '<', '=', '>', '?', '@', '[', '\\\\', ']', '^', '_', '`', '{', '|', '}', '~']\n",
      "[u'i', u'me', u'my', u'myself', u'we', u'our', u'ours', u'ourselves', u'you', u'your', u'yours', u'yourself', u'yourselves', u'he', u'him', u'his', u'himself', u'she', u'her', u'hers', u'herself', u'it', u'its', u'itself', u'they', u'them', u'their', u'theirs', u'themselves', u'what', u'which', u'who', u'whom', u'this', u'that', u'these', u'those', u'am', u'is', u'are', u'was', u'were', u'be', u'been', u'being', u'have', u'has', u'had', u'having', u'do', u'does', u'did', u'doing', u'a', u'an', u'the', u'and', u'but', u'if', u'or', u'because', u'as', u'until', u'while', u'of', u'at', u'by', u'for', u'with', u'about', u'against', u'between', u'into', u'through', u'during', u'before', u'after', u'above', u'below', u'to', u'from', u'up', u'down', u'in', u'out', u'on', u'off', u'over', u'under', u'again', u'further', u'then', u'once', u'here', u'there', u'when', u'where', u'why', u'how', u'all', u'any', u'both', u'each', u'few', u'more', u'most', u'other', u'some', u'such', u'no', u'nor', u'not', u'only', u'own', u'same', u'so', u'than', u'too', u'very', u's', u't', u'can', u'will', u'just', u'don', u'should', u'now', u'd', u'll', u'm', u'o', u're', u've', u'y', u'ain', u'aren', u'couldn', u'didn', u'doesn', u'hadn', u'hasn', u'haven', u'isn', u'ma', u'mightn', u'mustn', u'needn', u'shan', u'shouldn', u'wasn', u'weren', u'won', u'wouldn', '!', '\"', '#', '$', '%', '&', \"'\", '(', ')', '*', '+', ',', '-', '.', '/', ':', ';', '<', '=', '>', '?', '@', '[', '\\\\', ']', '^', '_', '`', '{', '|', '}', '~', 'RT', 'rt', 'via', 'VIA', 'The']\n"
     ]
    }
   ],
   "source": [
    "# TEST TWEET\n",
    "tweet = 'RT @marcobonzanini: This is a the just an example!!! :D http://example.com #NLP :) 2000 2,000 I DID IT'\n",
    "\n",
    "tokentweet = tknzr.tokenize(tweet)\n",
    "print tokentweet\n",
    "\n",
    "POStag = nltk.pos_tag(tokentweet) #tagging Parts Of Speech POS\n",
    "print POStag\n",
    "# note: this emoticon (u':D', 'JJ') is tagged as JJ, an adjective\n",
    "# note: this emoticon (u':)', 'NNP') is tagged as NNP, a noun, proper, singular\n",
    "#nltk.help.upenn_tagset('NNP') # to get the abbreviation description\n",
    "\n",
    "print(punctuation)\n",
    "print(stop)"
   ]
  },
  {
   "cell_type": "code",
   "execution_count": null,
   "metadata": {
    "collapsed": true
   },
   "outputs": [],
   "source": []
  }
 ],
 "metadata": {
  "anaconda-cloud": {},
  "kernelspec": {
   "display_name": "Python [Root]",
   "language": "python",
   "name": "Python [Root]"
  },
  "language_info": {
   "codemirror_mode": {
    "name": "ipython",
    "version": 2
   },
   "file_extension": ".py",
   "mimetype": "text/x-python",
   "name": "python",
   "nbconvert_exporter": "python",
   "pygments_lexer": "ipython2",
   "version": "2.7.12"
  }
 },
 "nbformat": 4,
 "nbformat_minor": 0
}
