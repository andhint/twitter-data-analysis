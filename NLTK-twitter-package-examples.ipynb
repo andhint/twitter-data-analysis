{
 "cells": [
  {
   "cell_type": "code",
   "execution_count": 22,
   "metadata": {
    "collapsed": false
   },
   "outputs": [
    {
     "data": {
      "text/plain": [
       "['{\"contributors\":null,\"coordinates\":null,\"created_at\":\"Sun May 29 17:04:04 +0000 2016\",\"entities\":{\"hashtags\":[],\"symbols\":[],\"urls\":[],\"user_mentions\":[{\"id\":18883414,\"id_str\":\"18883414\",\"indices\":[3,14],\"name\":\"dawnstaley\",\"screen_name\":\"dawnstaley\"},{\"id\":18164425,\"id_str\":\"18164425\",\"indices\":[60,73],\"name\":\"Atlanta Dream\",\"screen_name\":\"AtlantaDream\"},{\"id\":89492950,\"id_str\":\"89492950\",\"indices\":[81,93],\"name\":\"GamecockWBB\",\"screen_name\":\"GamecockWBB\"},{\"id\":42428498,\"id_str\":\"42428498\",\"indices\":[98,110],\"name\":\"Tiffany Mitchell\",\"screen_name\":\"TiffMitch25\"},{\"id\":1426779870,\"id_str\":\"1426779870\",\"indices\":[132,140],\"name\":\"innersole\",\"screen_name\":\"innersoleorg\"}]},\"favorite_count\":0,\"favorited\":false,\"geo\":null,\"id\":736966348430004224,\"id_str\":\"736966348430004224\",\"in_reply_to_screen_name\":null,\"in_reply_to_status_id\":null,\"in_reply_to_status_id_str\":null,\"in_reply_to_user_id\":null,\"in_reply_to_user_id_str\":null,\"is_quote_status\":false,\"lang\":\"en\",\"metadata\":{\"iso_language_code\":\"en\",\"result_type\":\"recent\"},\"place\":null,\"retweet_count\":16,\"retweeted\":false,\"retweeted_status\":{\"contributors\":null,\"coordinates\":null,\"created_at\":\"Sun May 29 13:51:42 +0000 2016\",\"entities\":{\"hashtags\":[],\"symbols\":[],\"urls\":[],\"user_mentions\":[{\"id\":18164425,\"id_str\":\"18164425\",\"indices\":[44,57],\"name\":\"Atlanta Dream\",\"screen_name\":\"AtlantaDream\"},{\"id\":89492950,\"id_str\":\"89492950\",\"indices\":[65,77],\"name\":\"GamecockWBB\",\"screen_name\":\"GamecockWBB\"},{\"id\":42428498,\"id_str\":\"42428498\",\"indices\":[82,94],\"name\":\"Tiffany Mitchell\",\"screen_name\":\"TiffMitch25\"},{\"id\":1426779870,\"id_str\":\"1426779870\",\"indices\":[116,129],\"name\":\"innersole\",\"screen_name\":\"innersoleorg\"}]},\"favorite_count\":73,\"favorited\":false,\"geo\":null,\"id\":736917938620530688,\"id_str\":\"736917938620530688\",\"in_reply_to_screen_name\":null,\"in_reply_to_status_id\":null,\"in_reply_to_status_id_str\":null,\"in_reply_to_user_id\":null,\"in_reply_to_user_id_str\":null,\"is_quote_status\":false,\"lang\":\"en\",\"metadata\":{\"iso_language_code\":\"en\",\"result_type\":\"recent\"},\"place\":null,\"retweet_count\":16,\"retweeted\":false,\"source\":\"<a href=\\\\\"http://twitter.com/download/iphone\\\\\" rel=\\\\\"nofollow\\\\\">Twitter for iPhone</a>\",\"text\":\"IT\\'S GAME DAY!!  Meeting Gameckck Nation at @AtlantaDream to see @GamecockWBB own @TiffMitch25 do her thing!   Stop @innersoleorg table w \\xf0\\x9f\\x91\\x9f\\xf0\\x9f\\x91\\x9f\",\"truncated\":false,\"user\":{\"contributors_enabled\":false,\"created_at\":\"Sun Jan 11 23:18:17 +0000 2009\",\"default_profile\":true,\"default_profile_image\":false,\"description\":\"Head Women\\'s Basketball Coach University of South Carolina\",\"entities\":{\"description\":{\"urls\":[]},\"url\":{\"urls\":[{\"display_url\":\"gamecocksonline.com\",\"expanded_url\":\"http://www.gamecocksonline.com\",\"indices\":[0,22],\"url\":\"http://t.co/6V5OLmE9pC\"}]}},\"favourites_count\":3171,\"follow_request_sent\":null,\"followers_count\":38054,\"following\":null,\"friends_count\":1213,\"geo_enabled\":false,\"has_extended_profile\":false,\"id\":18883414,\"id_str\":\"18883414\",\"is_translation_enabled\":false,\"is_translator\":false,\"lang\":\"en\",\"listed_count\":456,\"location\":\"\",\"name\":\"dawnstaley\",\"notifications\":null,\"profile_background_color\":\"C0DEED\",\"profile_background_image_url\":\"http://abs.twimg.com/images/themes/theme1/bg.png\",\"profile_background_image_url_https\":\"https://abs.twimg.com/images/themes/theme1/bg.png\",\"profile_background_tile\":false,\"profile_image_url\":\"http://pbs.twimg.com/profile_images/216262661/Twitter2_normal.jpg\",\"profile_image_url_https\":\"https://pbs.twimg.com/profile_images/216262661/Twitter2_normal.jpg\",\"profile_link_color\":\"0084B4\",\"profile_sidebar_border_color\":\"C0DEED\",\"profile_sidebar_fill_color\":\"DDEEF6\",\"profile_text_color\":\"333333\",\"profile_use_background_image\":true,\"protected\":false,\"screen_name\":\"dawnstaley\",\"statuses_count\":28858,\"time_zone\":\"Eastern Time (US & Canada)\",\"url\":\"http://t.co/6V5OLmE9pC\",\"utc_offset\":-14400,\"verified\":true}},\"source\":\"<a href=\\\\\"http://twitter.com/download/iphone\\\\\" rel=\\\\\"nofollow\\\\\">Twitter for iPhone</a>\",\"text\":\"RT @dawnstaley: IT\\'S GAME DAY!!  Meeting Gameckck Nation at @AtlantaDream to see @GamecockWBB own @TiffMitch25 do her thing!   Stop @inners\\xe2\\x80\\xa6\",\"truncated\":false,\"user\":{\"contributors_enabled\":false,\"created_at\":\"Thu Nov 08 21:11:13 +0000 2012\",\"default_profile\":true,\"default_profile_image\":false,\"description\":\"\",\"entities\":{\"description\":{\"urls\":[]}},\"favourites_count\":7806,\"follow_request_sent\":null,\"followers_count\":56,\"following\":null,\"friends_count\":507,\"geo_enabled\":true,\"has_extended_profile\":false,\"id\":935434470,\"id_str\":\"935434470\",\"is_translation_enabled\":false,\"is_translator\":false,\"lang\":\"en\",\"listed_count\":1,\"location\":\"\",\"name\":\"phyllis wicker\",\"notifications\":null,\"profile_background_color\":\"C0DEED\",\"profile_background_image_url\":\"http://abs.twimg.com/images/themes/theme1/bg.png\",\"profile_background_image_url_https\":\"https://abs.twimg.com/images/themes/theme1/bg.png\",\"profile_background_tile\":false,\"profile_image_url\":\"http://pbs.twimg.com/profile_images/430000145904963584/hrFiDVfe_normal.jpeg\",\"profile_image_url_https\":\"https://pbs.twimg.com/profile_images/430000145904963584/hrFiDVfe_normal.jpeg\",\"profile_link_color\":\"0084B4\",\"profile_sidebar_border_color\":\"C0DEED\",\"profile_sidebar_fill_color\":\"DDEEF6\",\"profile_text_color\":\"333333\",\"profile_use_background_image\":true,\"protected\":false,\"screen_name\":\"PhyllisWicker\",\"statuses_count\":1716,\"time_zone\":null,\"url\":null,\"utc_offset\":null,\"verified\":false}}\\n',\n",
       " '{\"contributors\":null,\"coordinates\":null,\"created_at\":\"Sun May 29 16:54:37 +0000 2016\",\"entities\":{\"hashtags\":[],\"symbols\":[],\"urls\":[],\"user_mentions\":[{\"id\":15051967,\"id_str\":\"15051967\",\"indices\":[15,20],\"name\":\"Sydney Hunte\",\"screen_name\":\"sydh\"},{\"id\":16577700,\"id_str\":\"16577700\",\"indices\":[31,44],\"name\":\"Philips Arena\",\"screen_name\":\"PhilipsArena\"},{\"id\":28672101,\"id_str\":\"28672101\",\"indices\":[77,90],\"name\":\"Indiana Fever\",\"screen_name\":\"IndianaFever\"},{\"id\":18164425,\"id_str\":\"18164425\",\"indices\":[103,116],\"name\":\"Atlanta Dream\",\"screen_name\":\"AtlantaDream\"}]},\"favorite_count\":0,\"favorited\":false,\"geo\":null,\"id\":736963970351943681,\"id_str\":\"736963970351943681\",\"in_reply_to_screen_name\":null,\"in_reply_to_status_id\":null,\"in_reply_to_status_id_str\":null,\"in_reply_to_user_id\":null,\"in_reply_to_user_id_str\":null,\"is_quote_status\":false,\"lang\":\"en\",\"metadata\":{\"iso_language_code\":\"en\",\"result_type\":\"recent\"},\"place\":null,\"retweet_count\":0,\"retweeted\":false,\"source\":\"<a href=\\\\\"http://twitter.com/download/iphone\\\\\" rel=\\\\\"nofollow\\\\\">Twitter for iPhone</a>\",\"text\":\"Our co-manager @sydh is off to @PhilipsArena to see Tiffany Mitchell and the @IndianaFever take on the @AtlantaDream. Story coming Tuesday!\",\"truncated\":false,\"user\":{\"contributors_enabled\":false,\"created_at\":\"Thu Mar 19 16:00:45 +0000 2009\",\"default_profile\":false,\"default_profile_image\":false,\"description\":\"@SBNation\\'s #Gamecocks site. Tweets by site co-managers @sydh and @smcdowell12. Football & baseball live game tweets by @kdzwierzynski. Podcast: @GABA_Cast\",\"entities\":{\"description\":{\"urls\":[]},\"url\":{\"urls\":[{\"display_url\":\"garnetandblackattack.com\",\"expanded_url\":\"http://www.garnetandblackattack.com/\",\"indices\":[0,23],\"url\":\"https://t.co/hYEinSpmz2\"}]}},\"favourites_count\":1236,\"follow_request_sent\":null,\"followers_count\":4869,\"following\":null,\"friends_count\":655,\"geo_enabled\":false,\"has_extended_profile\":false,\"id\":25324851,\"id_str\":\"25324851\",\"is_translation_enabled\":false,\"is_translator\":false,\"lang\":\"en\",\"listed_count\":177,\"location\":\"Gamecock Nation\",\"name\":\"GABAttack\",\"notifications\":null,\"profile_background_color\":\"DBE9ED\",\"profile_background_image_url\":\"http://abs.twimg.com/images/themes/theme17/bg.gif\",\"profile_background_image_url_https\":\"https://abs.twimg.com/images/themes/theme17/bg.gif\",\"profile_background_tile\":false,\"profile_banner_url\":\"https://pbs.twimg.com/profile_banners/25324851/1462072528\",\"profile_image_url\":\"http://pbs.twimg.com/profile_images/729034383982743553/T-y361tv_normal.jpg\",\"profile_image_url_https\":\"https://pbs.twimg.com/profile_images/729034383982743553/T-y361tv_normal.jpg\",\"profile_link_color\":\"CC3366\",\"profile_sidebar_border_color\":\"DBE9ED\",\"profile_sidebar_fill_color\":\"E6F6F9\",\"profile_text_color\":\"333333\",\"profile_use_background_image\":true,\"protected\":false,\"screen_name\":\"GABAttack\",\"statuses_count\":24132,\"time_zone\":\"Eastern Time (US & Canada)\",\"url\":\"https://t.co/hYEinSpmz2\",\"utc_offset\":-14400,\"verified\":false}}\\n']"
      ]
     },
     "execution_count": 22,
     "metadata": {},
     "output_type": "execute_result"
    }
   ],
   "source": [
    "# Example of reading a twitter data json file and outputing select fields to a csv file\n",
    "\n",
    "import pandas as pd\n",
    "import nltk\n",
    "import random\n",
    "import itertools # iterator tools\n",
    "import json\n",
    "import os\n",
    "from nltk import twitter\n",
    "from nltk.twitter import json2csv\n",
    "\n",
    "# Select a file to preprocess \n",
    "#!/usr/bin/python\n",
    "#path = \"/SampleDataForProject\"\n",
    "# Check current working directory.\n",
    "#retval = os.getcwd()\n",
    "#print \"Current working directory %s\" % retval\n",
    "# Now change the directory\n",
    "#os.chdir( 'SampleDataForProject' )\n",
    "# Check current working directory.\n",
    "#retval = os.getcwd()\n",
    "#retval\n",
    "#os.listdir('.') # view the content of the current folder\n",
    "\n",
    "fileitems = os.listdir('.') # Sample data subfolder\n",
    "filenum = len(fileitems) # count of files in folder\n",
    "filenum\n",
    "fileitems\n",
    "# TO DO: write conditional to see if the .csv file with the same name as .out, if so, skip to next\n",
    "# TO DO: write conditional to see if the .out file is in json format, if not, skip & deal with a different way...\n",
    "\n",
    "#input_file = 'WBI_SemifinalGame_11.out' # this file throws an error \n",
    "#input_file = 'WomensNIT_12.out' # this file throws an error \n",
    "\n",
    "#for item in fileitems:\n",
    "#    input_file = item\n",
    "#    outfile = input_file[:-4] + '.csv' # rename .out to .csv for each output\n",
    "\n",
    "#fields = ['id','id_str','created_at','entities','favorite_count','in_reply_to_status_id',\n",
    "#          'in_reply_to_user_id','retweet_count','retweeted','text',\n",
    "#          'entities.user_mentions','entities.hashtags', \n",
    "#          'place',\n",
    "#          'user.id', 'user.followers_count', 'user.friends_count']\n",
    "\n",
    "#    fields = ['id','text']\n",
    "#fields = ['text']\n",
    "\n",
    "# TO DO: write the output only if 'text' doesn't start with 'RT'\n",
    "# NOTE: when opened in excel, csv truncates the last 3 digits of the id_str to zeros... don't user excel?\n",
    "    \n",
    "#    with open(input_file) as fp:\n",
    "#        json2csv(fp, outfile, fields, encoding='utf8', errors='replace', gzip_compress=False)\n",
    "\n",
    "f = open(fileitems[1])\n",
    "#raw = f.read()\n",
    "raw = f.readlines()\n",
    "raw[:2]\n",
    "    \n",
    "# print raw tweets\n",
    "#for line in open(input_file).readlines()[:5]:\n",
    "#    print(line)\n",
    "\n",
    "# print tweets from csv\n",
    "#for line in open('nltkTwitterTest.csv').readlines()[:5]:\n",
    "#    print(line)\n",
    "\n",
    "# print read csv file into dataframes using pandas\n",
    "#tweets = pd.read_csv(outfile, index_col=0, header=0, encoding=\"utf8\")\n",
    "#tweets.head(5)\n",
    "\n",
    "# test pulling out random records # Format JSON\n",
    "#projNames = open(input_file).readlines()\n",
    "#print(random.choice(projNames))\n",
    "\n",
    "# print raw tweets\n",
    "#line = random.choice(outfile)\n",
    "#for line in open('nltkTwitterTest.csv').()[5:15]:\n",
    "#    print(line)\n"
   ]
  },
  {
   "cell_type": "code",
   "execution_count": null,
   "metadata": {
    "collapsed": false
   },
   "outputs": [],
   "source": [
    "# view all rows for one user\n",
    "tweets.loc[tweets['user.id'] == 1671922351]['text']"
   ]
  },
  {
   "cell_type": "code",
   "execution_count": null,
   "metadata": {
    "collapsed": true
   },
   "outputs": [],
   "source": []
  }
 ],
 "metadata": {
  "anaconda-cloud": {},
  "kernelspec": {
   "display_name": "Python [Root]",
   "language": "python",
   "name": "Python [Root]"
  },
  "language_info": {
   "codemirror_mode": {
    "name": "ipython",
    "version": 2
   },
   "file_extension": ".py",
   "mimetype": "text/x-python",
   "name": "python",
   "nbconvert_exporter": "python",
   "pygments_lexer": "ipython2",
   "version": "2.7.12"
  }
 },
 "nbformat": 4,
 "nbformat_minor": 0
}
